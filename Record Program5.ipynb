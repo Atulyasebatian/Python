{
 "cells": [
  {
   "cell_type": "code",
   "execution_count": 1,
   "id": "37f5c7ed",
   "metadata": {},
   "outputs": [
    {
     "name": "stdout",
     "output_type": "stream",
     "text": [
      "enter the 1st number:78\n",
      "enter the 2nd number:46\n",
      "GCD is: 2\n"
     ]
    }
   ],
   "source": [
    "#Find gcd of two numbers\n",
    "a=int(input(\"enter the 1st number:\"))\n",
    "b=int(input(\"enter the 2nd number:\"))\n",
    "while b!=0:\n",
    "    a,b=b,a%b\n",
    "print(\"GCD is:\",a)"
   ]
  },
  {
   "cell_type": "code",
   "execution_count": 2,
   "id": "a076d84b",
   "metadata": {},
   "outputs": [
    {
     "name": "stdout",
     "output_type": "stream",
     "text": [
      "list without even number is: [1, 3, 5, 7, 9]\n"
     ]
    }
   ],
   "source": [
    "#from a list of integers, create a list removing even numbers\n",
    "number=list(range(1,11))\n",
    "odd=[n for n in number if n%2==1]\n",
    "print(\"list without even number is:\",odd)"
   ]
  },
  {
   "cell_type": "code",
   "execution_count": 3,
   "id": "ff3b9ee4",
   "metadata": {},
   "outputs": [
    {
     "name": "stdout",
     "output_type": "stream",
     "text": [
      "enter the number separated by space:1 2 3 4 6 8 9\n",
      "the sum of all inputs is: 33\n"
     ]
    }
   ],
   "source": [
    "#find the sum of all items in a list\n",
    "n=list(map(int,input(\"enter the number separated by space:\").split()))\n",
    "total=sum(n)\n",
    "print(\"the sum of all inputs is:\",total)"
   ]
  },
  {
   "cell_type": "code",
   "execution_count": 5,
   "id": "f7fa7ca9",
   "metadata": {},
   "outputs": [
    {
     "name": "stdout",
     "output_type": "stream",
     "text": [
      "enter the lower limit34\n",
      "enter the upper limit97\n",
      "four digit perfect square with all even digits: [4624, 6084, 6400, 8464]\n"
     ]
    }
   ],
   "source": [
    "#Generate a list of four digit number in a given range with all their digits even and the number is a perfect square\n",
    "l=int(input(\"enter the lower limit\"))\n",
    "u=int(input(\"enter the upper limit\"))\n",
    "even_digit_sq=[]\n",
    "for num in range(l,u+1):\n",
    "    sq=num**2\n",
    "    if 100<=sq<=9999:\n",
    "        d=str(sq)\n",
    "        all_even=True\n",
    "        for digit in d:\n",
    "            if int(digit)%2==1:\n",
    "                all_even=False\n",
    "                break\n",
    "        if all_even:\n",
    "            even_digit_sq.append(sq)\n",
    "print(\"four digit perfect square with all even digits:\",even_digit_sq)\n"
   ]
  },
  {
   "cell_type": "code",
   "execution_count": 9,
   "id": "7cdb2b9e",
   "metadata": {},
   "outputs": [
    {
     "name": "stdout",
     "output_type": "stream",
     "text": [
      "enter a string:how are you\n",
      "h:1,o:2,w:1, :2,a:1,r:1,e:1, :2,y:1,o:2,u:1,"
     ]
    }
   ],
   "source": [
    "#Count the number of characters in a string \n",
    "wrd=input(\"enter a string:\")\n",
    "for i in wrd:\n",
    "    freq=wrd.count(i)\n",
    "    print(str(i)+\":\"+str(freq),end=\",\")"
   ]
  },
  {
   "cell_type": "code",
   "execution_count": 10,
   "id": "d04ea042",
   "metadata": {},
   "outputs": [
    {
     "name": "stdout",
     "output_type": "stream",
     "text": [
      "enter a string:reading\n",
      "modified string: readingly\n"
     ]
    }
   ],
   "source": [
    "#Add 'ing' at the end of a given string if it already ends with 'ing',them add 'ly'\n",
    "wrd=input(\"enter a string:\")\n",
    "if wrd.endswith(\"ing\"):\n",
    "    res=wrd+\"ly\"\n",
    "else:\n",
    "    res=wrd+\"ing\"\n",
    "print(\"modified string:\",res)\n",
    "        \n",
    "        "
   ]
  },
  {
   "cell_type": "code",
   "execution_count": null,
   "id": "33e76d8c",
   "metadata": {},
   "outputs": [],
   "source": []
  }
 ],
 "metadata": {
  "kernelspec": {
   "display_name": "Python 3 (ipykernel)",
   "language": "python",
   "name": "python3"
  },
  "language_info": {
   "codemirror_mode": {
    "name": "ipython",
    "version": 3
   },
   "file_extension": ".py",
   "mimetype": "text/x-python",
   "name": "python",
   "nbconvert_exporter": "python",
   "pygments_lexer": "ipython3",
   "version": "3.11.5"
  }
 },
 "nbformat": 4,
 "nbformat_minor": 5
}
