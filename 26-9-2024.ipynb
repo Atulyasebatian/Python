{
 "cells": [
  {
   "cell_type": "code",
   "execution_count": 7,
   "id": "0f3af43e",
   "metadata": {},
   "outputs": [
    {
     "ename": "IndentationError",
     "evalue": "unexpected indent (3030573364.py, line 2)",
     "output_type": "error",
     "traceback": [
      "\u001b[0;36m  Cell \u001b[0;32mIn[7], line 2\u001b[0;36m\u001b[0m\n\u001b[0;31m    area=a*a\u001b[0m\n\u001b[0m    ^\u001b[0m\n\u001b[0;31mIndentationError\u001b[0m\u001b[0;31m:\u001b[0m unexpected indent\n"
     ]
    }
   ],
   "source": [
    "a=int(input(\"enter the length of the square\"))\n",
    "      area=a*a\n",
    "      print(\"area of asquare is:\",area)"
   ]
  },
  {
   "cell_type": "code",
   "execution_count": 8,
   "id": "9ff297ff",
   "metadata": {},
   "outputs": [
    {
     "name": "stdout",
     "output_type": "stream",
     "text": [
      "enter the side of the square:4\n",
      "area= 16\n"
     ]
    }
   ],
   "source": [
    "a=int(input(\"enter the side of the square:\"))\n",
    "area=a*a\n",
    "print(\"area=\",area)"
   ]
  },
  {
   "cell_type": "code",
   "execution_count": 9,
   "id": "dcaa2326",
   "metadata": {},
   "outputs": [
    {
     "name": "stdout",
     "output_type": "stream",
     "text": [
      "enter your name:athulya\n",
      "Hello,athulya!\n"
     ]
    }
   ],
   "source": [
    "name=input(\"enter your name:\")\n",
    "print(\"Hello,\"+name+\"!\")\n"
   ]
  },
  {
   "cell_type": "code",
   "execution_count": 10,
   "id": "1601f725",
   "metadata": {},
   "outputs": [
    {
     "name": "stdout",
     "output_type": "stream",
     "text": [
      "enter the base of the right angled triangle8\n",
      "enter the height of the right angled triangle2\n",
      "area= 8.0\n"
     ]
    }
   ],
   "source": [
    "b=int(input(\"enter the base of the right angled triangle\"))\n",
    "h=int(input(\"enter the height of the right angled triangle\"))\n",
    "area=(b*h)/2\n",
    "print(\"area=\",area)"
   ]
  },
  {
   "cell_type": "code",
   "execution_count": 13,
   "id": "1127cfea",
   "metadata": {},
   "outputs": [
    {
     "name": "stdout",
     "output_type": "stream",
     "text": [
      "enter an integer;5\n",
      "the previous number of a is 4\n",
      "the next number of a is 6\n"
     ]
    }
   ],
   "source": [
    "a=int(input(\"enter an integer;\"))\n",
    "previous_number=a-1\n",
    "next_number=a+1\n",
    "print(\"the previous number of a is\",previous_number)\n",
    "print(\"the next number of a is\",next_number)"
   ]
  },
  {
   "cell_type": "code",
   "execution_count": 14,
   "id": "e814cb55",
   "metadata": {},
   "outputs": [
    {
     "name": "stdout",
     "output_type": "stream",
     "text": [
      "enter the amount:1000\n",
      "enter the rate of interest:5\n",
      "enter the time period in years:1.5\n",
      "the result is: 75.0\n"
     ]
    }
   ],
   "source": [
    "p =int(input(\"enter the amount:\"))\n",
    "r=int(input(\"enter the rate of interest:\"))\n",
    "t=float(input(\"enter the time period in years:\"))\n",
    "si=(p*r*t)/100\n",
    "print(\"the result is:\",si)"
   ]
  },
  {
   "cell_type": "code",
   "execution_count": null,
   "id": "4b9b1674",
   "metadata": {},
   "outputs": [],
   "source": []
  }
 ],
 "metadata": {
  "kernelspec": {
   "display_name": "Python 3 (ipykernel)",
   "language": "python",
   "name": "python3"
  },
  "language_info": {
   "codemirror_mode": {
    "name": "ipython",
    "version": 3
   },
   "file_extension": ".py",
   "mimetype": "text/x-python",
   "name": "python",
   "nbconvert_exporter": "python",
   "pygments_lexer": "ipython3",
   "version": "3.11.5"
  }
 },
 "nbformat": 4,
 "nbformat_minor": 5
}
