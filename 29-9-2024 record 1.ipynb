{
 "cells": [
  {
   "cell_type": "code",
   "execution_count": 4,
   "id": "c3a8d2d4",
   "metadata": {},
   "outputs": [
    {
     "name": "stdout",
     "output_type": "stream",
     "text": [
      "Enter an integer:5\n",
      "5+55+555=615\n"
     ]
    }
   ],
   "source": [
    "#COMPUTE n+nn+nnn\n",
    "n=input(\"Enter an integer:\")\n",
    "result=int(n)+int(n*2)+int(n*3)\n",
    "print(f\"{n}+{n*2}+{n*3}={result}\")\n"
   ]
  },
  {
   "cell_type": "code",
   "execution_count": 5,
   "id": "3a0c55bc",
   "metadata": {},
   "outputs": [
    {
     "name": "stdout",
     "output_type": "stream",
     "text": [
      "enter the radius:2\n",
      "the area is: 12.566370614359172\n"
     ]
    }
   ],
   "source": [
    "#COMPUTE the area of the circle\n",
    "import math\n",
    "r=float(input(\"enter the radius:\"))\n",
    "area=math.pi*r**2\n",
    "print(\"the area is:\",area)"
   ]
  },
  {
   "cell_type": "code",
   "execution_count": 9,
   "id": "7490e62f",
   "metadata": {},
   "outputs": [
    {
     "name": "stdout",
     "output_type": "stream",
     "text": [
      "enter first number:3\n",
      "enter second number:4\n",
      "enter third number:6\n",
      "Biggest number is: 6\n"
     ]
    }
   ],
   "source": [
    "#COMPUTE THE BIGGEST OF THE THREE NUMBERS\n",
    "import math\n",
    "a=int(input(\"enter first number:\"))\n",
    "b=int(input(\"enter second number:\"))\n",
    "c=int(input(\"enter third number:\"))\n",
    "Biggest=max(a,b,c)\n",
    "print(\"Biggest number is:\",Biggest)\n"
   ]
  },
  {
   "cell_type": "code",
   "execution_count": null,
   "id": "2618ce0f",
   "metadata": {},
   "outputs": [],
   "source": []
  }
 ],
 "metadata": {
  "kernelspec": {
   "display_name": "Python 3 (ipykernel)",
   "language": "python",
   "name": "python3"
  },
  "language_info": {
   "codemirror_mode": {
    "name": "ipython",
    "version": 3
   },
   "file_extension": ".py",
   "mimetype": "text/x-python",
   "name": "python",
   "nbconvert_exporter": "python",
   "pygments_lexer": "ipython3",
   "version": "3.11.5"
  }
 },
 "nbformat": 4,
 "nbformat_minor": 5
}
