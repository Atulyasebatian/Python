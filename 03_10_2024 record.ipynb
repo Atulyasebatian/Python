
{
 "cells": [
  {
   "cell_type": "code",
   "execution_count": 3,
   "id": "bae786dc",
   "metadata": {},
   "outputs": [
    {
     "name": "stdout",
     "output_type": "stream",
     "text": [
      "Enter an integer : 5\n",
      "5+55+555=30530\n"
     ]
    }
   ],
   "source": [
    "n=input(\"Enter an integer : \")\n",
    "result=int(n)+int(n*2)*int(n*3)\n",
    "print(f\"{n}+{n*2}+{n*3}={result}\")"
   ]
  },
  {
   "cell_type": "code",
   "execution_count": 4,
   "id": "99fc655c",
   "metadata": {},
   "outputs": [
    {
     "name": "stdout",
     "output_type": "stream",
     "text": [
      "Enter the radius of th circle : 5\n",
      "Area of the circle is:  78.53981633974483\n"
     ]
    }
   ],
   "source": [
    "import math as M\n",
    "radius=float(input(\"Enter the radius of th circle : \"))\n",
    "area=M.pi*radius*radius\n",
    "pi=3.14\n",
    "print(\"Area of the circle is: \",area)"
   ]
  },
  {
   "cell_type": "code",
   "execution_count": 5,
   "id": "5cc9b334",
   "metadata": {},
   "outputs": [
    {
     "name": "stdout",
     "output_type": "stream",
     "text": [
      "Enter the first number: 5\n",
      "Enter the second Number: 10\n",
      "Enter the third number:8\n",
      "The Biggest number is:  10\n"
     ]
    }
   ],
   "source": [
    "import math\n",
    "a=int(input(\"Enter the first number: \"))\n",
    "b=int(input(\"Enter the second Number: \"))\n",
    "c=int(input(\"Enter the third number:\"))\n",
    "biggest=max(a,b,c)\n",
    "print(\"The Biggest number is: \",biggest)"
   ]
  },
  {
   "cell_type": "code",
   "execution_count": 7,
   "id": "760401fc",
   "metadata": {},
   "outputs": [
    {
     "name": "stdout",
     "output_type": "stream",
     "text": [
      "Enter the Temparature in celcius ; 50\n",
      "Converted Temparature into Fahrenheit is 122.0\n"
     ]
    }
   ],
   "source": [
    "celcius=float(input(\"Enter the Temparature in celcius : \"))\n",
    "fahrenheit=celcius*9/5+32\n",
    "print(\"Converted Temparature into Fahrenheit is\",fahrenheit)"
   ]
  },
  {
   "cell_type": "code",
   "execution_count": 9,
   "id": "5af514ae",
   "metadata": {},
   "outputs": [
    {
     "name": "stdout",
     "output_type": "stream",
     "text": [
      "Enter the kilometers you traveled: 5\n",
      "You have traveled3.1068499999999997 Miles\n"
     ]
    }
   ],
   "source": [
    "km=float(input(\"Enter the kilometers you traveled: \"))\n",
    "miles=km*0.62137\n",
    "print(f\"You have traveled {miles} Miles\")"
   ]
  },
  {
   "cell_type": "code",
   "execution_count": 10,
   "id": "f4671d43",
   "metadata": {},
   "outputs": [
    {
     "name": "stdout",
     "output_type": "stream",
     "text": [
      "Enter the Price of product A:50\n",
      "Enter the Price of product B:60\n",
      "Enter the Price of product C:70\n",
      "Total price of the Product is:$180.0\n",
      "Final price(after 15% Discount) is:$153.0\n",
      "Average price of the Product is:$60.0\n",
      "Product A is Expensive than Final price: False\n",
      "Product B is Expensive than Final price: False\n",
      "Product C is Expensive than Final price: False\n",
      "Final price is in the range of $50 to $200: True\n"
     ]
    }
   ],
   "source": [
    "A=float(input(\"Enter the Price of product A:\"))\n",
    "B=float(input(\"Enter the Price of product B:\"))\n",
    "C=float(input(\"Enter the Price of product C:\"))\n",
    "Total_price=A+B+C\n",
    "print(f\"Total price of the Product is:${Total_price}\")\n",
    "Discount=Total_price*0.15\n",
    "Final_price=Total_price-Discount\n",
    "print(f\"Final price(after 15% Discount) is:${Final_price}\")\n",
    "Avg=Total_price/3\n",
    "print(f\"Average price of the Product is:${Avg}\")\n",
    "print(\"Product A is Expensive than Final price:\",A>Final_price)\n",
    "print(\"Product B is Expensive than Final price:\",B>Final_price)\n",
    "print(\"Product C is Expensive than Final price:\",C>Final_price)\n",
    "print(\"Final price is in the range of $50 to $200:\",50<=Final_price<=200)"
   ]
  },
  {
   "cell_type": "code",
   "execution_count": null,
   "id": "8e12582f",
   "metadata": {},
   "outputs": [],
   "source": []
  }
 ],
 "metadata": {
  "kernelspec": {
   "display_name": "Python 3 (ipykernel)",
   "language": "python",
   "name": "python3"
  },
  "language_info": {
   "codemirror_mode": {
    "name": "ipython",
    "version": 3
   },
   "file_extension": ".py",
   "mimetype": "text/x-python",
   "name": "python",
   "nbconvert_exporter": "python",
   "pygments_lexer": "ipython3",
   "version": "3.10.12"
  }
 },
 "nbformat": 4,
 "nbformat_minor": 5
}
