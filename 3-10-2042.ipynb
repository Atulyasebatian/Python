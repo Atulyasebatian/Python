
{
 "cells": [
  {
   "cell_type": "code",
   "execution_count": 3,
   "id": "59625466",
   "metadata": {},
   "outputs": [
    {
     "name": "stdout",
     "output_type": "stream",
     "text": [
      "enter the temprarture in celcius:24\n",
      "the fahrenheit temprature is = 75.2\n"
     ]
    }
   ],
   "source": [
    "#CONVERT CELCIUS TO FAHRENHEIT\n",
    "T=int(input(\"enter the temprarture in celcius:\"))\n",
    "f = T * 9/5 + 32\n",
    "print(\"the fahrenheit temprature is =\",f)\n"
   ]
  },
  {
   "cell_type": "code",
   "execution_count": 6,
   "id": "15a1229f",
   "metadata": {},
   "outputs": [
    {
     "name": "stdout",
     "output_type": "stream",
     "text": [
      "enter the kilometers:4\n",
      "4.0is equal to 2.48548\n"
     ]
    }
   ],
   "source": [
    "\n"
   ]
  },
  {
   "cell_type": "code",
   "execution_count": 12,
   "id": "068d7a67",
   "metadata": {},
   "outputs": [
    {
     "name": "stdout",
     "output_type": "stream",
     "text": [
      "Enter the Price of product A:10\n",
      "Enter the Price of product B:20\n",
      "Enter the Price of product C:30\n",
      "Total price of the Product is:$60.0\n",
      "Final price(after 15% Discount) is:$51.0\n",
      "Average price of the Product is:$20.0\n",
      "Product A is Expensive than Final price: False\n",
      "Product B is Expensive than Final price: False\n",
      "Product C is Expensive than Final price: False\n",
      "Final price is in the range of $50 to $200: True\n"
     ]
    }
   ],
   "source": [
    "\n"
   ]
  },
  {
   "cell_type": "code",
   "execution_count": null,
   "id": "cb7f675b",
   "metadata": {},
   "outputs": [],
   "source": []
  },
  {
   "cell_type": "code",
   "execution_count": null,
   "id": "ffe82e47",
   "metadata": {},
   "outputs": [],
   "source": []
  },
  {
   "cell_type": "code",
   "execution_count": null,
   "id": "35fb0b69",
   "metadata": {},
   "outputs": [],
   "source": []
  },
  {
   "cell_type": "code",
   "execution_count": null,
   "id": "859db0f8",
   "metadata": {},
   "outputs": [],
   "source": []
  },
  {
   "cell_type": "code",
   "execution_count": null,
   "id": "88be24cf",
   "metadata": {},
   "outputs": [],
   "source": []
  },
  {
   "cell_type": "code",
   "execution_count": null,
   "id": "e17ba3f9",
   "metadata": {},
   "outputs": [],
   "source": []
  },
  {
   "cell_type": "code",
   "execution_count": null,
   "id": "4d9ccff6",
   "metadata": {},
   "outputs": [],
   "source": []
  }
 ],
 "metadata": {
  "kernelspec": {
   "display_name": "Python 3 (ipykernel)",
   "language": "python",
   "name": "python3"
  },
  "language_info": {
   "codemirror_mode": {
    "name": "ipython",
    "version": 3
   },
   "file_extension": ".py",
   "mimetype": "text/x-python",
   "name": "python",
   "nbconvert_exporter": "python",
   "pygments_lexer": "ipython3",
   "version": "3.11.5"
  }
 },
 "nbformat": 4,
 "nbformat_minor": 5
}
