{
 "cells": [
  {
   "cell_type": "code",
   "execution_count": 7,
   "id": "c3df3048",
   "metadata": {},
   "outputs": [
    {
     "name": "stdin",
     "output_type": "stream",
     "text": [
      "Enter starting  year :  2024\n",
      "Enter a ending year :  2050\n"
     ]
    },
    {
     "name": "stdout",
     "output_type": "stream",
     "text": [
      "The leap year in range \n",
      "2024\n",
      "2028\n",
      "2032\n",
      "2036\n",
      "2040\n",
      "2044\n",
      "2048\n"
     ]
    }
   ],
   "source": [
    "#1.Display future leap years from current year to a final year entered by user.\n",
    "\n",
    "def leapyr(s,e):\n",
    "    for i in range(s,e+1):\n",
    "        if(i%4==0 and i %100!=0):\n",
    "            print(i)\n",
    "s=int(input(\"Enter starting  year : \"))\n",
    "e=int(input(\"Enter a ending year : \"))\n",
    "print(\"The leap year in range \")\n",
    "leapyr(s,e)\n"
   ]
  },
  {
   "cell_type": "code",
   "execution_count": 8,
   "id": "1573ff13",
   "metadata": {},
   "outputs": [
    {
     "name": "stdin",
     "output_type": "stream",
     "text": [
      "Enter the number :  6\n"
     ]
    },
    {
     "name": "stdout",
     "output_type": "stream",
     "text": [
      "The factorial of 6 is 720\n"
     ]
    }
   ],
   "source": [
    "#2.Program to find the factorial of a number.\n",
    "\n",
    "def fact(n):\n",
    "    if n==1:\n",
    "        return 1\n",
    "    else:\n",
    "        return n*fact(n-1)\n",
    "n=int(input(\"Enter the number : \"))\n",
    "print(f\"The factorial of {n} is {fact(n)}\")\n"
   ]
  },
  {
   "cell_type": "code",
   "execution_count": 9,
   "id": "b0b69d42",
   "metadata": {
    "scrolled": true
   },
   "outputs": [
    {
     "name": "stdin",
     "output_type": "stream",
     "text": [
      "Enter the number of terms you want in the Fibonacci sequence:  6\n"
     ]
    },
    {
     "name": "stdout",
     "output_type": "stream",
     "text": [
      "Fibonacci series of 6\n",
      "0\n",
      "1\n",
      "1\n",
      "2\n",
      "3\n",
      "5\n"
     ]
    }
   ],
   "source": [
    "#3. fibonacci\n",
    "def fib(n):\n",
    "    a=1;b=0;c=0\n",
    "    while(c<=n):\n",
    "        print(c)\n",
    "        c=a+b\n",
    "        a=b\n",
    "        b=c\n",
    "a=int(input(\"Enter the number of terms you want in the Fibonacci sequence: \"))\n",
    "print(\"Fibonacci series of\",a)\n",
    "fib(a)"
   ]
  },
  {
   "cell_type": "code",
   "execution_count": 11,
   "id": "50c6de32",
   "metadata": {
    "scrolled": true
   },
   "outputs": [
    {
     "name": "stdin",
     "output_type": "stream",
     "text": [
      "Enter words:  amruth ajay\n"
     ]
    },
    {
     "name": "stdout",
     "output_type": "stream",
     "text": [
      "longest word:  amruth\n"
     ]
    }
   ],
   "source": [
    "#4.longest word.\n",
    "def fword (words):\n",
    "    print(\"longest word: \",(max(words,key=len))) #Print the word with the maximum length\n",
    "#Input words from the user, split by space \n",
    "words= input(\"Enter words: \").split()\n",
    "fword(words)"
   ]
  },
  {
   "cell_type": "code",
   "execution_count": null,
   "id": "d4a8e783",
   "metadata": {},
   "outputs": [],
   "source": [
    "#5. * pyramid\n",
    "def pat(n):\n",
    "    for _ in range(n):\n",
    "        print(\"* \",end=\"\")\n",
    "    print()\n",
    "n=1\n",
    "j=0\n",
    "while j<0:\n",
    "    pat(n)\n",
    "    j+=1\n",
    "    if j<5:\n",
    "        n+=1\n",
    "    else:\n",
    "        n-=1\n"
   ]
  },
  {
   "cell_type": "code",
   "execution_count": 4,
   "id": "614b31d7",
   "metadata": {},
   "outputs": [
    {
     "name": "stdout",
     "output_type": "stream",
     "text": [
      "* \n",
      "* * \n",
      "* * * \n",
      "* * * * \n",
      "* * * * * \n",
      "* * * * \n",
      "* * * \n",
      "* * \n",
      "* \n"
     ]
    }
   ],
   "source": []
  },
  {
   "cell_type": "code",
   "execution_count": 5,
   "id": "8e3353b5",
   "metadata": {},
   "outputs": [
    {
     "name": "stdout",
     "output_type": "stream",
     "text": [
      "* \n",
      "* * \n",
      "* * * \n",
      "* * * * \n",
      "* * * * * \n",
      "* * * * \n",
      "* * * \n",
      "* * \n",
      "* \n"
     ]
    }
   ],
   "source": []
  },
  {
   "cell_type": "code",
   "execution_count": null,
   "id": "f2c00011-6480-4a58-abd4-fb18cd6045d9",
   "metadata": {},
   "outputs": [],
   "source": []
  }
 ],
 "metadata": {
  "kernelspec": {
   "display_name": "Python 3 (ipykernel)",
   "language": "python",
   "name": "python3"
  },
  "language_info": {
   "codemirror_mode": {
    "name": "ipython",
    "version": 3
   },
   "file_extension": ".py",
   "mimetype": "text/x-python",
   "name": "python",
   "nbconvert_exporter": "python",
   "pygments_lexer": "ipython3",
   "version": "3.11.5"
  }
 },
 "nbformat": 4,
 "nbformat_minor": 5
}
