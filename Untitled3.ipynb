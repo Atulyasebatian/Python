
{
 "cells": [
  {
   "cell_type": "code",
   "execution_count": 3,
   "id": "67da5753",
   "metadata": {},
   "outputs": [
    {
     "name": "stdout",
     "output_type": "stream",
     "text": [
      "enter the temprarture in celcius:24\n",
      "the fahrenheit temprature is = 75.2\n"
     ]
    }
   ],
   "source": [
    "#CONVERT CELCIUS TO FAHRENHEIT\n",
    "T=int(input(\"enter the temprarture in celcius:\"))\n",
    "f = T * 9/5 + 32\n",
    "print(\"the fahrenheit temprature is =\",f)\n"
   ]
  },
  {
   "cell_type": "code",
   "execution_count": 6,
   "id": "d80979c2",
   "metadata": {},
   "outputs": [
    {
     "name": "stdout",
     "output_type": "stream",
     "text": [
      "enter the kilometers:4\n",
      "4.0is equal to 2.48548\n"
     ]
    }
   ],
   "source": [
    "#KILOMETER TO MILES\n",
    "a=float(input(\"enter the kilometers:\"))\n",
    "b=a*(0.62137)\n",
    "print(\"{}is equal to {}\". format (a,b))\n",
    "\n"
   ]
  },
  {
   "cell_type": "code",
   "execution_count": 12,
   "id": "8d3a4bb3",
   "metadata": {},
   "outputs": [
    {
     "name": "stdout",
     "output_type": "stream",
     "text": [
      "Enter the Price of product A:10\n",
      "Enter the Price of product B:20\n",
      "Enter the Price of product C:30\n",
      "Total price of the Product is:$60.0\n",
      "Final price(after 15% Discount) is:$51.0\n",
      "Average price of the Product is:$20.0\n",
      "Product A is Expensive than Final price: False\n",
      "Product B is Expensive than Final price: False\n",
      "Product C is Expensive than Final price: False\n",
      "Final price is in the range of $50 to $200: True\n"
     ]
    }
   ],
   "source": [
    "A=float(input(\"Enter the Price of product A:\"))\n",
    "B=float(input(\"Enter the Price of product B:\"))\n",
    "C=float(input(\"Enter the Price of product C:\"))\n",
    "Total_price=A+B+C\n",
    "print(f\"Total price of the Product is:${Total_price}\")\n",
    "Discount=Total_price*0.15\n",
    "Final_price=Total_price-Discount\n",
    "print(f\"Final price(after 15% Discount) is:${Final_price}\")\n",
    "Avg=Total_price/3\n",
    "print(f\"Average price of the Product is:${Avg}\")\n",
    "print(\"Product A is Expensive than Final price:\",A>Final_price)\n",
    "print(\"Product B is Expensive than Final price:\",B>Final_price)\n",
    "print(\"Product C is Expensive than Final price:\",C>Final_price)\n",
    "print(\"Final price is in the range of $50 to $200:\",50<=Final_price<=200)\n"
   ]
  },
  {
   "cell_type": "code",
   "execution_count": null,
   "id": "af3b30b3",
   "metadata": {},
   "outputs": [],
   "source": []
  },
  {
   "cell_type": "code",
   "execution_count": null,
   "id": "83e77175",
   "metadata": {},
   "outputs": [],
   "source": []
  },
  {
   "cell_type": "code",
   "execution_count": null,
   "id": "8242c768",
   "metadata": {},
   "outputs": [],
   "source": []
  },
  {
   "cell_type": "code",
   "execution_count": null,
   "id": "c22c4d35",
   "metadata": {},
   "outputs": [],
   "source": []
  },
  {
   "cell_type": "code",
   "execution_count": null,
   "id": "95e98143",
   "metadata": {},
   "outputs": [],
   "source": []
  },
  {
   "cell_type": "code",
   "execution_count": null,
   "id": "c498ae15",
   "metadata": {},
   "outputs": [],
   "source": []
  },
  {
   "cell_type": "code",
   "execution_count": null,
   "id": "d3e54e5e",
   "metadata": {},
   "outputs": [],
   "source": []
  }
 ],
 "metadata": {
  "kernelspec": {
   "display_name": "Python 3 (ipykernel)",
   "language": "python",
   "name": "python3"
  },
  "language_info": {
   "codemirror_mode": {
    "name": "ipython",
    "version": 3
   },
   "file_extension": ".py",
   "mimetype": "text/x-python",
   "name": "python",
   "nbconvert_exporter": "python",
   "pygments_lexer": "ipython3",
   "version": "3.11.5"
  }
 },
 "nbformat": 4,
 "nbformat_minor": 5
}
