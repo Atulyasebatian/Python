{
 "cells": [
  {
   "cell_type": "code",
   "execution_count": 3,
   "id": "36df32f7-d9d2-4a2c-9b57-558ef8ff989c",
   "metadata": {},
   "outputs": [
    {
     "name": "stdin",
     "output_type": "stream",
     "text": [
      "Enter two numbers separated by space:  10 0\n"
     ]
    },
    {
     "name": "stdout",
     "output_type": "stream",
     "text": [
      "Error: Cannot divide by zero.\n"
     ]
    }
   ],
   "source": [
    "try:\n",
    "    x, y = map(int, input(\"Enter two numbers separated by space: \").split())\n",
    "    result = x / y\n",
    "    print(\"Result:\", result)\n",
    "except ZeroDivisionError:\n",
    "    print(\"Error: Cannot divide by zero.\")\n",
    "except ValueError:\n",
    "    print(\"Error: Invalid input. Please enter valid numbers.\")\n"
   ]
  },
  {
   "cell_type": "code",
   "execution_count": null,
   "id": "881eb4fd-0d44-4c81-9334-b6fce0894c9a",
   "metadata": {},
   "outputs": [],
   "source": [
    "import re\n",
    "\n",
    "email_pattern = r\"^[a-zA-Z0-9._%+-]+@[a-zA-Z0-9.-]+\\.[a-zA-Z]{2,}$\"\n",
    "phone_pattern = r\"^\\+?\\d{0,2}[-\\s]?\\d{10}$\"\n",
    "\n",
    "inputs = input(\"Enter emails and phone numbers separated by commas: \").split(\",\")\n",
    "valid_emails, valid_phone_numbers = [], []\n",
    "\n",
    "for item in inputs:\n",
    "    if re.match(email_pattern, item.strip()):\n",
    "        valid_emails.append(item.strip())\n",
    "    elif re.match(phone_pattern, item.strip()):\n",
    "        valid_phone_numbers.append(item.strip())\n",
    "\n",
    "print(\"\\nValid Emails:\")\n",
    "for email in valid_emails:\n",
    "    print(f\"- {email}\")\n",
    "\n",
    "print(\"\\nValid Phone Numbers:\")\n",
    "for phone in valid_phone_numbers:\n",
    "    print(f\"- {phone}\")\n"
   ]
  },
  {
   "cell_type": "code",
   "execution_count": null,
   "id": "f2fc6e29-b93a-4635-a380-b3fd5e6505ae",
   "metadata": {},
   "outputs": [],
   "source": []
  }
 ],
 "metadata": {
  "kernelspec": {
   "display_name": "Python 3 (ipykernel)",
   "language": "python",
   "name": "python3"
  },
  "language_info": {
   "codemirror_mode": {
    "name": "ipython",
    "version": 3
   },
   "file_extension": ".py",
   "mimetype": "text/x-python",
   "name": "python",
   "nbconvert_exporter": "python",
   "pygments_lexer": "ipython3",
   "version": "3.11.5"
  }
 },
 "nbformat": 4,
 "nbformat_minor": 5
}
