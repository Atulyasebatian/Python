{
 "cells": [
  {
   "cell_type": "code",
   "execution_count": 1,
   "id": "32fe0de5",
   "metadata": {},
   "outputs": [
    {
     "name": "stdout",
     "output_type": "stream",
     "text": [
      "enter 5 numbers seperated by comma:1,3,2,4,5\n",
      "output 1,3,2,4,5\n"
     ]
    }
   ],
   "source": [
    "n=input(\"enter 5 numbers seperated by comma:\")\n",
    "print(\"output\",n)\n"
   ]
  },
  {
   "cell_type": "code",
   "execution_count": 8,
   "id": "fc16f1a6",
   "metadata": {},
   "outputs": [
    {
     "name": "stdout",
     "output_type": "stream",
     "text": [
      "enter 3 colors seperated by comma:red,purple,pink\n",
      "output red\n"
     ]
    }
   ],
   "source": [
    "p=list(input(\"enter 3 colors seperated by comma:\").split(','))\n",
    "print(\"output\",p[0])"
   ]
  },
  {
   "cell_type": "code",
   "execution_count": 7,
   "id": "d3090809",
   "metadata": {},
   "outputs": [
    {
     "name": "stdout",
     "output_type": "stream",
     "text": [
      "enter 3 colors seperated by comma:red,blue,black\n",
      "enter 3 colors seperated by comma:green,purple,pink\n",
      "output {'red', 'black', 'blue'}\n"
     ]
    }
   ],
   "source": [
    "p=set(input(\"enter 3 colors seperated by comma:\").split(','))\n",
    "q=set(input(\"enter 3 colors seperated by comma:\").split(','))\n",
    "c=p-q\n",
    "print(\"output\",c)"
   ]
  },
  {
   "cell_type": "code",
   "execution_count": 11,
   "id": "4887d08b",
   "metadata": {},
   "outputs": [
    {
     "name": "stdout",
     "output_type": "stream",
     "text": [
      "enter 3 students name seperated by comma:athulya,ayisha,nidha\n",
      "dictionary1: {1: 'athulya', 2: 'ayisha', 3: 'nidha'}\n",
      "enter 3 students name seperated by comma:aneesa,rashi,aammi\n",
      "dictionary2: {4: 'aneesa', 5: 'rashi', 6: 'aammi'}\n",
      "merged: {1: 'athulya', 2: 'ayisha', 3: 'nidha', 4: 'aneesa', 5: 'rashi', 6: 'aammi'}\n"
     ]
    }
   ],
   "source": [
    "p=input(\"enter 3 students name seperated by comma:\").split(',')\n",
    "pd={1:p[0],2:p[1],3:p[2]}\n",
    "print(\"dictionary1:\",pd)\n",
    "\n",
    "q=input(\"enter 3 students name seperated by comma:\").split(',')\n",
    "qd={4:q[0],5:q[1],6:q[2]}\n",
    "print(\"dictionary2:\",qd)\n",
    "\n",
    "pd.update(qd)\n",
    "\n",
    "print(\"merged:\",pd)"
   ]
  },
  {
   "cell_type": "code",
   "execution_count": 13,
   "id": "f8976c54",
   "metadata": {},
   "outputs": [
    {
     "name": "stdout",
     "output_type": "stream",
     "text": [
      "enter 3 roll number seperated by comma:10,11,12\n",
      "enter 3 name seperated by comma:athulya,ayisha,aneesa\n",
      "dict {'10': 'athulya', '11': 'ayisha', '12': 'aneesa'}\n",
      "sorted dict {'10': 'athulya', '11': 'ayisha', '12': 'aneesa'}\n"
     ]
    }
   ],
   "source": [
    "roll=input(\"enter 3 roll number seperated by comma:\").split(',')\n",
    "name=input(\"enter 3 name seperated by comma:\").split(',')\n",
    "\n",
    "d={roll[0]:name[0],roll[1]:name[1],roll[2]:name[2]}\n",
    "\n",
    "print(\"dict\",d)\n",
    "s=dict(sorted(d.items()))\n",
    "print(\"sorted dict\",s)"
   ]
  },
  {
   "cell_type": "code",
   "execution_count": null,
   "id": "0b68f316",
   "metadata": {},
   "outputs": [],
   "source": [
    "roll=input(\"\")"
   ]
  }
 ],
 "metadata": {
  "kernelspec": {
   "display_name": "Python 3 (ipykernel)",
   "language": "python",
   "name": "python3"
  },
  "language_info": {
   "codemirror_mode": {
    "name": "ipython",
    "version": 3
   },
   "file_extension": ".py",
   "mimetype": "text/x-python",
   "name": "python",
   "nbconvert_exporter": "python",
   "pygments_lexer": "ipython3",
   "version": "3.11.5"
  }
 },
 "nbformat": 4,
 "nbformat_minor": 5
}
