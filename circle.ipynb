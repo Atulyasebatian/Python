{
 "cells": [
  {
   "cell_type": "code",
   "execution_count": 2,
   "id": "92ea4960",
   "metadata": {},
   "outputs": [
    {
     "name": "stdout",
     "output_type": "stream",
     "text": [
      "enter the radius:5\n",
      "area of the circlewith radius5.0=78.54\n"
     ]
    }
   ],
   "source": [
    "#AREA OF A CIRCLE\n",
    "import math\n",
    "r=float(input(\"enter the radius:\"))\n",
    "area=math.pi*(r*r)\n",
    "print(\"area of the circlewith radius{}={:.2f}\".format(r,area))"
   ]
  },
  {
   "cell_type": "code",
   "execution_count": null,
   "id": "de10eb8c",
   "metadata": {},
   "outputs": [],
   "source": []
  }
 ],
 "metadata": {
  "kernelspec": {
   "display_name": "Python 3 (ipykernel)",
   "language": "python",
   "name": "python3"
  },
  "language_info": {
   "codemirror_mode": {
    "name": "ipython",
    "version": 3
   },
   "file_extension": ".py",
   "mimetype": "text/x-python",
   "name": "python",
   "nbconvert_exporter": "python",
   "pygments_lexer": "ipython3",
   "version": "3.11.5"
  }
 },
 "nbformat": 4,
 "nbformat_minor": 5
}
