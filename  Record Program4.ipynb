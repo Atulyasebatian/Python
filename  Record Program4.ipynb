{
 "cells": [
  {
   "cell_type": "code",
   "execution_count": 1,
   "id": "0972e195",
   "metadata": {},
   "outputs": [
    {
     "name": "stdout",
     "output_type": "stream",
     "text": [
      "enter a line of text :Anupama and Athulya\n",
      "anupama:1\n",
      "and:1\n",
      "athulya:1\n"
     ]
    }
   ],
   "source": [
    "#Program to count the occurrences of each word in a line of text\n",
    "text=input(\"enter a line of text :\")\n",
    "text=text.lower()\n",
    "word=text.split()\n",
    "\n",
    "word_count={}\n",
    "for word in word:\n",
    "    if word in word_count:\n",
    "        word_count[word]+=1\n",
    "    else:\n",
    "        word_count[word]=1\n",
    "for word, count in word_count.items():\n",
    "    print(f\"{word}:{count}\")"
   ]
  },
  {
   "cell_type": "code",
   "execution_count": 2,
   "id": "98828be0",
   "metadata": {},
   "outputs": [
    {
     "name": "stdout",
     "output_type": "stream",
     "text": [
      "enter a list of number:110 50 300 40\n",
      "modified list: ['Over', 50, 'Over', 40]\n"
     ]
    }
   ],
   "source": [
    "#Prompt the user for a list of integers.for all values greater than 100,store 'over' instead\n",
    "n=input(\"enter a list of number:\")\n",
    "num=[int(x) for x in n.split()]\n",
    "res=[\"Over\" if num>100 else num for num in num]\n",
    "print(\"modified list:\",res)"
   ]
  },
  {
   "cell_type": "code",
   "execution_count": 3,
   "id": "bd56f8b9",
   "metadata": {},
   "outputs": [
    {
     "name": "stdout",
     "output_type": "stream",
     "text": [
      "enter a list of first name separated by space:anu athu allu \n",
      "total occurrence of 'a': 3\n"
     ]
    }
   ],
   "source": [
    "#Store a list of first names count the occurences of 'a' with the list\n",
    "name=input(\"enter a list of first name separated by space:\").split()\n",
    "count=0\n",
    "for name in name:\n",
    "    count+=name.lower().count(\"a\")\n",
    "print(\"total occurrence of 'a':\",count)\n"
   ]
  },
  {
   "cell_type": "code",
   "execution_count": 4,
   "id": "3d78d8fe",
   "metadata": {},
   "outputs": [
    {
     "name": "stdout",
     "output_type": "stream",
     "text": [
      "enter the first list of integer separated by space:30 -50 60 -40 82\n",
      "positive numbers: [30, 60, 82]\n",
      "enter a number:6\n",
      "sequence of number from 1 to 6 : [1, 4, 9, 16, 25, 36]\n",
      "enter a word:how are you\n",
      "vowels in the given word ['o', 'a', 'e', 'o', 'u']\n",
      "enter a word:hello\n",
      "ordin\n"
     ]
    }
   ],
   "source": [
    "#List of comprehensions\n",
    "number=list(map(int,input(\"enter the first list of integer separated by space:\").split()))\n",
    "pnum=[num for num in number if num>0]\n",
    "print(\"positive numbers:\",pnum)\n",
    "\n",
    "n=int(input(\"enter a number:\"))\n",
    "sq=[num**2 for num in range(1,n+1)]\n",
    "print(\"sequence of number from 1 to\",n,\":\",sq)\n",
    "\n",
    "wrd=input(\"enter a word:\")\n",
    "v=[char for char in wrd if char.lower() in \"aeiou\"]\n",
    "print(\"vowels in the given word\",v)\n",
    "      \n",
    "word=input(\"enter a word:\")\n",
    "ordinal_values=[ord(char) for char in word]\n",
    "print(\"ordin\")"
   ]
  },
  {
   "cell_type": "code",
   "execution_count": 6,
   "id": "eef10d24",
   "metadata": {},
   "outputs": [
    {
     "name": "stdout",
     "output_type": "stream",
     "text": [
      "enter the first lost of integer separated by space :1 2 3 4\n",
      "enter the second list of integer separated by space:5 6 7 8\n",
      "lists are of same lenght: True\n",
      "lists sum to the same values: False\n",
      "any common values between lists: False\n"
     ]
    }
   ],
   "source": [
    "#Enter the two lists of integers\n",
    "l1=list(map(int,input(\"enter the first lost of integer separated by space :\").split()))\n",
    "l2=list(map(int,input(\"enter the second list of integer separated by space:\").split()))\n",
    "\n",
    "\n",
    "same_len=len(l1)==len(l2)\n",
    "print(\"lists are of same lenght:\",same_len)\n",
    "\n",
    "\n",
    "same_sum=sum(l1)==sum(l2)\n",
    "print(\"lists sum to the same values:\",same_sum)\n",
    "\n",
    "cmn=set(l1).intersection(set(l2))\n",
    "cmn_value=len(cmn)>0\n",
    "print(\"any common values between lists:\",cmn_value)\n",
    "if cmn_value:\n",
    "    print(\"common values:\",cmn)"
   ]
  },
  {
   "cell_type": "code",
   "execution_count": null,
   "id": "da5aa563",
   "metadata": {},
   "outputs": [],
   "source": []
  }
 ],
 "metadata": {
  "kernelspec": {
   "display_name": "Python 3 (ipykernel)",
   "language": "python",
   "name": "python3"
  },
  "language_info": {
   "codemirror_mode": {
    "name": "ipython",
    "version": 3
   },
   "file_extension": ".py",
   "mimetype": "text/x-python",
   "name": "python",
   "nbconvert_exporter": "python",
   "pygments_lexer": "ipython3",
   "version": "3.11.5"
  }
 },
 "nbformat": 4,
 "nbformat_minor": 5
}
